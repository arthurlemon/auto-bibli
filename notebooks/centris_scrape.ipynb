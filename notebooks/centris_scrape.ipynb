{
 "cells": [
  {
   "cell_type": "code",
   "execution_count": 37,
   "metadata": {},
   "outputs": [
    {
     "name": "stdout",
     "output_type": "stream",
     "text": [
      "The autoreload extension is already loaded. To reload it, use:\n",
      "  %reload_ext autoreload\n"
     ]
    }
   ],
   "source": [
    "%load_ext autoreload\n",
    "%autoreload 2\n",
    "\n",
    "from datetime import datetime\n",
    "from centris.centris_scraper import CentrisBienParser, AsyncCentrisScraper\n",
    "from centris.db_models import PlexCentrisListingDB\n",
    "from centris import Session\n",
    "from sqlalchemy.sql import select\n",
    "\n",
    "from pprint import pprint"
   ]
  },
  {
   "cell_type": "markdown",
   "metadata": {},
   "source": [
    "### Scraping 1 listing"
   ]
  },
  {
   "cell_type": "code",
   "execution_count": 21,
   "metadata": {},
   "outputs": [],
   "source": [
    "plex_start_url=\"https://www.centris.ca/fr/plex~a-vendre~montreal?view=Thumbnail&uc=1\"\n",
    "url_bien_centris = \"https://www.centris.ca/fr/triplex~a-vendre~montreal-ahuntsic-cartierville/19418151?view=Summary\""
   ]
  },
  {
   "cell_type": "code",
   "execution_count": 22,
   "metadata": {},
   "outputs": [],
   "source": [
    "centris_parser = CentrisBienParser(url_bien_centris)"
   ]
  },
  {
   "cell_type": "code",
   "execution_count": 32,
   "metadata": {},
   "outputs": [],
   "source": [
    "scrape_date=datetime.now()\n",
    "data = centris_parser.get_data(scrape_date)"
   ]
  },
  {
   "cell_type": "code",
   "execution_count": 30,
   "metadata": {},
   "outputs": [
    {
     "name": "stdout",
     "output_type": "stream",
     "text": [
      "{'adresse': \"10627 - 10631, Rue D'Iberville, Montréal (Ahuntsic-Cartierville), \"\n",
      "            'Quartier Ahuntsic Est',\n",
      " 'annee_construction': 1966,\n",
      " 'centris_id': 19418151,\n",
      " 'date_scrape': '2024-12-28',\n",
      " 'description': None,\n",
      " 'eval_municipale': 815000,\n",
      " 'nombre_unites': 3,\n",
      " 'prix': 980000,\n",
      " 'quartier': 'Ahuntsic Cartierville',\n",
      " 'revenus': 36000,\n",
      " 'stationnement': 3,\n",
      " 'style_batiment': None,\n",
      " 'superficie_batiment': None,\n",
      " 'superficie_commerce': None,\n",
      " 'superficie_habitable': None,\n",
      " 'superficie_terrain': 3401,\n",
      " 'taxes': 5313,\n",
      " 'title': 'Triplex à vendre',\n",
      " 'unites': ['3 1/2', '5 1/2', '5 1/2'],\n",
      " 'url': 'https://www.centris.ca/fr/triplex~a-vendre~montreal-ahuntsic-cartierville/19418151?view=Summary',\n",
      " 'utilisation': 'Résidentielle',\n",
      " 'ville': 'Montreal'}\n"
     ]
    }
   ],
   "source": [
    "pprint(data.model_dump())\n"
   ]
  },
  {
   "cell_type": "markdown",
   "metadata": {},
   "source": [
    "saving to DB"
   ]
  },
  {
   "cell_type": "code",
   "execution_count": null,
   "metadata": {},
   "outputs": [],
   "source": [
    "db_entry = centris_parser.to_db_model(scrape_date)\n",
    "with Session.begin() as session:\n",
    "    session.add_all(\n",
    "        [\n",
    "            db_entry\n",
    "        ]\n",
    "    )"
   ]
  },
  {
   "cell_type": "code",
   "execution_count": null,
   "metadata": {},
   "outputs": [],
   "source": [
    "# Query the database for testing\n",
    "stmt = select(PlexCentrisListingDB)\n",
    "objects = session.scalars(stmt).all()"
   ]
  },
  {
   "cell_type": "code",
   "execution_count": 44,
   "metadata": {},
   "outputs": [
    {
     "data": {
      "text/plain": [
       "{'_sa_instance_state': <sqlalchemy.orm.state.InstanceState at 0x11fce7770>,\n",
       " 'unites': '[\"3 1/2\", \"5 1/2\", \"5 1/2\"]',\n",
       " 'utilisation': 'Résidentielle',\n",
       " 'eval_municipale': 815000,\n",
       " 'nombre_unites': 3,\n",
       " 'style_batiment': None,\n",
       " 'date_scrape': '2024-12-28',\n",
       " 'url': 'https://www.centris.ca/fr/triplex~a-vendre~montreal-ahuntsic-cartierville/19418151?view=Summary',\n",
       " 'superficie_habitable': None,\n",
       " 'adresse': \"10627 - 10631, Rue D'Iberville, Montréal (Ahuntsic-Cartierville), Quartier Ahuntsic Est\",\n",
       " 'superficie_batiment': None,\n",
       " 'ville': 'Montreal',\n",
       " 'centris_id': 19418151,\n",
       " 'superficie_commerce': None,\n",
       " 'quartier': 'Ahuntsic Cartierville',\n",
       " 'title': 'Triplex à vendre',\n",
       " 'superficie_terrain': 3401,\n",
       " 'prix': 980000,\n",
       " 'revenus': 36000,\n",
       " 'annee_construction': 1966,\n",
       " 'stationnement': 3,\n",
       " 'description': None,\n",
       " 'taxes': 5313}"
      ]
     },
     "execution_count": 44,
     "metadata": {},
     "output_type": "execute_result"
    }
   ],
   "source": [
    "objects[0].__dict__"
   ]
  },
  {
   "cell_type": "code",
   "execution_count": null,
   "metadata": {},
   "outputs": [],
   "source": [
    "with Session.begin() as session:\n",
    "    # Get existing IDs\n",
    "    existing_ids = {\n",
    "        id_[0] for id_ in \n",
    "        session.query(PlexCentrisListingDB.centris_id).all()\n",
    "    }"
   ]
  },
  {
   "cell_type": "code",
   "execution_count": 46,
   "metadata": {},
   "outputs": [
    {
     "name": "stdout",
     "output_type": "stream",
     "text": [
      "{24248804, 19344934, 19418151, 15838313, 14787455}\n"
     ]
    }
   ],
   "source": [
    "print(existing_ids)"
   ]
  },
  {
   "cell_type": "code",
   "execution_count": 1,
   "metadata": {},
   "outputs": [],
   "source": [
    "from centris.main import get_existing_centris_ids\n",
    "existing_ids = get_existing_centris_ids()"
   ]
  },
  {
   "cell_type": "code",
   "execution_count": 4,
   "metadata": {},
   "outputs": [
    {
     "name": "stdout",
     "output_type": "stream",
     "text": [
      "18286084\n"
     ]
    }
   ],
   "source": [
    "for el in existing_ids:\n",
    "    print(el)\n",
    "    break"
   ]
  },
  {
   "cell_type": "code",
   "execution_count": 5,
   "metadata": {},
   "outputs": [],
   "source": [
    "all_urls = ['https://www.centris.ca/fr/duplex~a-vendre~montreal-ahuntsic-cartierville/11493867?view=Summary', 'https://www.centris.ca/fr/duplex~a-vendre~montreal-cote-des-neiges-notre-dame-de-grace/21712528?view=Summary', 'https://www.centris.ca/fr/quadruplex~a-vendre~montreal-lachine/23406148?view=Summary', 'https://www.centris.ca/fr/duplex~a-vendre~montreal-mercier-hochelaga-maisonneuve/26336120?view=Summary', 'https://www.centris.ca/fr/duplex~a-vendre~montreal-ahuntsic-cartierville/28623760?view=Summary', 'https://www.centris.ca/fr/quadruplex~a-vendre~montreal-l-ile-bizard-sainte-genevieve/19847268?view=Summary', 'https://www.centris.ca/fr/triplex~a-vendre~montreal-ville-marie/11160801?view=Summary', 'https://www.centris.ca/fr/triplex~a-vendre~montreal-riviere-des-prairies-pointe-aux-trembles/18705723?view=Summary', 'https://www.centris.ca/fr/triplex~a-vendre~montreal-mercier-hochelaga-maisonneuve/21586957?view=Summary', 'https://www.centris.ca/fr/triplex~a-vendre~montreal-mercier-hochelaga-maisonneuve/14317746?view=Summary', 'https://www.centris.ca/fr/quadruplex~a-vendre~montreal-villeray-saint-michel-parc-extension/11141292?view=Summary', 'https://www.centris.ca/fr/quintuplex~a-vendre~montreal-le-sud-ouest/16008600?view=Summary', 'https://www.centris.ca/fr/duplex~a-vendre~montreal-saint-laurent/10360074?view=Summary', 'https://www.centris.ca/fr/triplex~a-vendre~montreal-ville-marie/9757519?view=Summary', 'https://www.centris.ca/fr/duplex~a-vendre~montreal-lachine/10149723?view=Summary', 'https://www.centris.ca/fr/quadruplex~a-vendre~montreal-le-plateau-mont-royal/15742000?view=Summary', 'https://www.centris.ca/fr/quadruplex~a-vendre~montreal-riviere-des-prairies-pointe-aux-trembles/19866722?view=Summary', 'https://www.centris.ca/fr/triplex~a-vendre~montreal-verdun-ile-des-soeurs/24411293?view=Summary', 'https://www.centris.ca/fr/duplex~a-vendre~montreal-cote-des-neiges-notre-dame-de-grace/25881718?view=Summary', 'https://www.centris.ca/fr/duplex~a-vendre~montreal-rosemont-la-petite-patrie/14415173?view=Summary', 'https://www.centris.ca/fr/triplex~a-vendre~montreal-riviere-des-prairies-pointe-aux-trembles/12881479?view=Summary', 'https://www.centris.ca/fr/triplex~a-vendre~montreal-ville-marie/19584463?view=Summary', 'https://www.centris.ca/fr/duplex~a-vendre~montreal-ahuntsic-cartierville/22353235?view=Summary', 'https://www.centris.ca/fr/quadruplex~a-vendre~montreal-ahuntsic-cartierville/16027183?view=Summary']"
   ]
  },
  {
   "cell_type": "code",
   "execution_count": 8,
   "metadata": {},
   "outputs": [],
   "source": [
    "from tqdm import tqdm\n",
    "from centris.centris_scraper import CentrisBienParser"
   ]
  },
  {
   "cell_type": "code",
   "execution_count": 10,
   "metadata": {},
   "outputs": [
    {
     "name": "stderr",
     "output_type": "stream",
     "text": [
      "Scraping content of each listing URL: 100%|██████████| 24/24 [00:00<00:00, 26546.23it/s]"
     ]
    },
    {
     "name": "stdout",
     "output_type": "stream",
     "text": [
      "11493867\n",
      "Skipping 11493867 as it already exists in the DB\n",
      "21712528\n",
      "Skipping 21712528 as it already exists in the DB\n",
      "23406148\n",
      "Skipping 23406148 as it already exists in the DB\n",
      "26336120\n",
      "Skipping 26336120 as it already exists in the DB\n",
      "28623760\n",
      "Skipping 28623760 as it already exists in the DB\n",
      "19847268\n",
      "Skipping 19847268 as it already exists in the DB\n",
      "11160801\n",
      "Skipping 11160801 as it already exists in the DB\n",
      "18705723\n",
      "Skipping 18705723 as it already exists in the DB\n",
      "21586957\n",
      "Skipping 21586957 as it already exists in the DB\n",
      "14317746\n",
      "Skipping 14317746 as it already exists in the DB\n",
      "11141292\n",
      "Skipping 11141292 as it already exists in the DB\n",
      "16008600\n",
      "Skipping 16008600 as it already exists in the DB\n",
      "10360074\n",
      "Skipping 10360074 as it already exists in the DB\n",
      "9757519\n",
      "Skipping 9757519 as it already exists in the DB\n",
      "10149723\n",
      "Skipping 10149723 as it already exists in the DB\n",
      "15742000\n",
      "Skipping 15742000 as it already exists in the DB\n",
      "19866722\n",
      "Skipping 19866722 as it already exists in the DB\n",
      "24411293\n",
      "Skipping 24411293 as it already exists in the DB\n",
      "25881718\n",
      "Skipping 25881718 as it already exists in the DB\n",
      "14415173\n",
      "Skipping 14415173 as it already exists in the DB\n",
      "12881479\n",
      "Skipping 12881479 as it already exists in the DB\n",
      "19584463\n",
      "Skipping 19584463 as it already exists in the DB\n",
      "22353235\n",
      "Skipping 22353235 as it already exists in the DB\n",
      "16027183\n",
      "Skipping 16027183 as it already exists in the DB\n"
     ]
    },
    {
     "name": "stderr",
     "output_type": "stream",
     "text": [
      "\n"
     ]
    }
   ],
   "source": [
    "for url in tqdm(all_urls, desc=\"Scraping content of each listing URL\"):\n",
    "    centris_parser = CentrisBienParser(url)\n",
    "    print(centris_parser.centris_id)\n",
    "    if centris_parser.centris_id in existing_ids:\n",
    "        print(f\"Skipping {centris_parser.centris_id} as it already exists in the DB\")\n",
    "        continue\n",
    "    db_entry = centris_parser.to_db_model(scrape_date)"
   ]
  },
  {
   "cell_type": "code",
   "execution_count": null,
   "metadata": {},
   "outputs": [],
   "source": []
  }
 ],
 "metadata": {
  "kernelspec": {
   "display_name": ".venv",
   "language": "python",
   "name": "python3"
  },
  "language_info": {
   "codemirror_mode": {
    "name": "ipython",
    "version": 3
   },
   "file_extension": ".py",
   "mimetype": "text/x-python",
   "name": "python",
   "nbconvert_exporter": "python",
   "pygments_lexer": "ipython3",
   "version": "3.11.5"
  }
 },
 "nbformat": 4,
 "nbformat_minor": 2
}
