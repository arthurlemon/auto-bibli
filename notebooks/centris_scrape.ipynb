{
 "cells": [
  {
   "cell_type": "code",
   "execution_count": 9,
   "metadata": {},
   "outputs": [
    {
     "name": "stdout",
     "output_type": "stream",
     "text": [
      "The autoreload extension is already loaded. To reload it, use:\n",
      "  %reload_ext autoreload\n"
     ]
    }
   ],
   "source": [
    "%load_ext autoreload\n",
    "%autoreload 2\n",
    "import requests\n",
    "import re\n",
    "from datetime import datetime\n",
    "from src.utils import set_driver, extract_data_from_url\n",
    "import requests\n",
    "from bs4 import BeautifulSoup"
   ]
  },
  {
   "cell_type": "code",
   "execution_count": 4,
   "metadata": {},
   "outputs": [],
   "source": [
    "driver = set_driver()"
   ]
  },
  {
   "cell_type": "code",
   "execution_count": 2,
   "metadata": {},
   "outputs": [],
   "source": [
    "base_url = \"https://www.centris.ca/fr/\"\n",
    "url_bien = base_url + \"triplex~a-vendre~montreal-rosemont-la-petite-patrie/26999986?view=Summary&uc=1\""
   ]
  },
  {
   "cell_type": "code",
   "execution_count": 3,
   "metadata": {},
   "outputs": [],
   "source": [
    "headers = {\n",
    "    'User-Agent': 'Mozilla/5.0 (Windows NT 10.0; Win64; x64) AppleWebKit/537.36 (KHTML, like Gecko) Chrome/58.0.3029.110 Safari/537.3'}\n",
    "\n",
    "response = requests.get(url_bien, headers=headers)\n",
    "\n",
    "if response.status_code == 200:\n",
    "    soup = BeautifulSoup(response.text, 'html.parser')"
   ]
  },
  {
   "cell_type": "code",
   "execution_count": null,
   "metadata": {},
   "outputs": [],
   "source": [
    "# inspect html\n",
    "html_content = soup.prettify()\n",
    "print(html_content)"
   ]
  },
  {
   "cell_type": "code",
   "execution_count": 11,
   "metadata": {},
   "outputs": [
    {
     "name": "stdout",
     "output_type": "stream",
     "text": [
      "{'ville': 'Montreal', 'quartier': 'Rosemont La Petite Patrie', 'centris_id': '26999986'}\n"
     ]
    }
   ],
   "source": [
    "centris_url_data = extract_data_from_url(url_bien)\n",
    "print(centris_url_data)"
   ]
  },
  {
   "cell_type": "code",
   "execution_count": null,
   "metadata": {},
   "outputs": [],
   "source": [
    "# Data model to store the extracted information\n",
    "bien_centrics = {\n",
    "    'centris_id': None,\n",
    "    'adresse': None,\n",
    "    'ville': None,\n",
    "    'quartier': None,\n",
    "    'annee_construction': None,\n",
    "    'superficie_habitable': None,\n",
    "    'superficie_terrain': None,\n",
    "    'prix': None,\n",
    "    'eval_municipale': None,\n",
    "    'taxes': None,\n",
    "    'frais': 0,\n",
    "    'garage': 0,\n",
    "    'date_scrape': datetime.now().strftime('%Y-%m-%d'),\n",
    "    'nombre_unites': None,\n",
    "    'unites': [],\n",
    "    'misc': None,\n",
    "    'revenus_brut': None,\n",
    "    'description': None\n",
    "}"
   ]
  },
  {
   "cell_type": "code",
   "execution_count": null,
   "metadata": {},
   "outputs": [
    {
     "name": "stdout",
     "output_type": "stream",
     "text": [
      "centris_id: 26999986\n",
      "adresse: 4007 - 4011, boulevard Rosemont, Montréal (Rosemont/La Petite-Patrie), Quartier Rosemont Nord\n",
      "ville: Montreal\n",
      "quartier: Rosemont-La Petite-Patrie\n",
      "annee_construction: 1959\n",
      "superficie_habitable: None\n",
      "superficie_terrain: 2400\n",
      "prix: 899000\n",
      "eval_municipale: 759100\n",
      "taxes: 5450\n",
      "frais: 0\n",
      "garage: 1\n",
      "date_scrape: 2024-12-02\n",
      "nombre_unites: 4\n",
      "unites: ['3 x 3 ½', '1 x 5 ½']\n",
      "misc: À proximité du REM\n",
      "revenus_brut: 51240\n",
      "description: Emplacement de choix pour ce magnifique triplex au coeur de Rosemont ! Idéal pour propriétaires occupants ou investisseurs, il est bien entretenu au fil des ans et offre des revenus intéressants. Profitez d'une grande cour, d'excellents locataires et de tous les services à proximité. Le sous-sol est entièrement aménagé en bachelor. Situé près du métro, du parc botanique, de la clinique médicale, des écoles, et d'attraits comme le Jardin Botanique, le Parc Olympique, et le Biodôme. Revenus locatifs bruts de 51 840 $. Ne manquez pas cette opportunité !\n"
     ]
    }
   ],
   "source": [
    "# data from URL\n",
    "centris_url_data = extract_data_from_url(url_bien)\n",
    "bien_centrics['centris_id'] = centris_url_data['centris_id']\n",
    "bien_centrics['ville']= centris_url_data['ville']\n",
    "bien_centrics['quartier'] = centris_url_data['quartier']\n",
    "\n",
    "# data from HTML\n",
    "price_span = soup.find('span', {'id': 'BuyPrice'})\n",
    "if price_span:\n",
    "    bien_centrics['prix'] = int(re.sub(r'[^0-9]', '', price_span.string))\n",
    "\n",
    "# Extracting description\n",
    "description_div = soup.find('div', {'itemprop': 'description'})\n",
    "if description_div:\n",
    "    bien_centrics['description'] = description_div.string.strip()\n",
    "\n",
    "# Extracting address\n",
    "address_h2 = soup.find('h2', {'itemprop': 'address'})\n",
    "if address_h2:\n",
    "    bien_centrics['adresse'] = address_h2.string.strip()\n",
    "\n",
    "# Extracting construction year\n",
    "construction_div = soup.find('div', string='Année de construction')\n",
    "if construction_div and construction_div.find_next_sibling('div', class_='carac-value'):\n",
    "    bien_centrics['annee_construction'] = int(construction_div.find_next_sibling('div', class_='carac-value').text.strip())\n",
    "\n",
    "# Extracting land area\n",
    "land_area_div = soup.find('div', string='Superficie du terrain')\n",
    "if land_area_div and land_area_div.find_next_sibling('div', class_='carac-value'):\n",
    "    land_area_text = land_area_div.find_next_sibling('div', class_='carac-value').string.strip()\n",
    "    bien_centrics['superficie_terrain'] = int(re.sub(r'[^0-9]', '', land_area_text))\n",
    "\n",
    "# Extracting garage\n",
    "garage_div = soup.find('div', string='Stationnement total')\n",
    "if garage_div and garage_div.find_next_sibling('div', class_='carac-value'):\n",
    "    garage_text = garage_div.find_next_sibling('div', class_='carac-value').string.strip()\n",
    "    match = re.search(r'Garage \\((\\d+)\\)', garage_text)\n",
    "    if match:\n",
    "        bien_centrics['garage'] = int(match.group(1))\n",
    "\n",
    "# Extracting number of units\n",
    "units_div = soup.find('div', string='Nombre d’unités')\n",
    "if units_div and units_div.find_next_sibling('div', class_='carac-value'):\n",
    "    units_text = units_div.find_next_sibling('div', class_='carac-value').string.strip()\n",
    "    match = re.search(r'\\((\\d+)\\)', units_text)\n",
    "    if match:\n",
    "        bien_centrics['nombre_unites'] = int(match.group(1))\n",
    "\n",
    "# Extracting residential units\n",
    "residential_units_div = soup.find('div', class_='carac-title', string=lambda s: s and 'Unités résidentielles' in s)\n",
    "if residential_units_div and residential_units_div.find_next_sibling('div', class_='carac-value'):\n",
    "    units_text = residential_units_div.find_next_sibling('div', class_='carac-value').find('span', {'data-id': 'NbUniteFormatted'}).text.strip()\n",
    "    bien_centrics['unites'] = [unit.strip() for unit in units_text.split(',')]\n",
    "\n",
    "# Extracting municipal evaluation\n",
    "eval_total_div = soup.find('tr', class_='financial-details-table-total')\n",
    "if eval_total_div and eval_total_div.find('td', class_='font-weight-bold text-right'):\n",
    "    bien_centrics['eval_municipale'] = int(re.sub(r'[^0-9]', '', eval_total_div.find('td', class_='font-weight-bold text-right').text.strip()))\n",
    "\n",
    "# Extracting taxes\n",
    "yearly_taxes_div = soup.find('div', class_='financial-details-table-yearly')\n",
    "taxes_total_div = yearly_taxes_div.find_next('tfoot').find('tr', class_='col pl-0 financial-details-table-total')\n",
    "if taxes_total_div and taxes_total_div.find('td', class_='font-weight-bold text-right'):\n",
    "    bien_centrics['taxes'] = int(re.sub(r'[^0-9]', '', taxes_total_div.find('td', class_='font-weight-bold text-right').string.strip()))\n",
    "\n",
    "# Extracting potential gross revenue\n",
    "revenus_div = soup.find('div', string='Revenus bruts potentiels')\n",
    "if revenus_div and revenus_div.find_next_sibling('div', class_='carac-value'):\n",
    "    revenus_text = revenus_div.find_next_sibling('div', class_='carac-value').string.strip()\n",
    "    bien_centrics['revenus_brut'] = int(re.sub(r'[^0-9]', '', revenus_text))\n",
    "\n",
    "# Extracting additional characteristics\n",
    "misc_div = soup.find('div', string='Caractéristiques additionnelles')\n",
    "if misc_div and misc_div.find_next_sibling('div', class_='carac-value'):\n",
    "    bien_centrics['misc'] = misc_div.find_next_sibling('div', class_='carac-value').string.strip()\n",
    "\n",
    "# Output the extracted data\n",
    "for key, value in bien_centrics.items():\n",
    "    print(f\"{key}: {value}\")"
   ]
  },
  {
   "cell_type": "code",
   "execution_count": null,
   "metadata": {},
   "outputs": [
    {
     "name": "stdout",
     "output_type": "stream",
     "text": [
      "4\n",
      "['3 x 3 ½', '1 x 5 ½']\n"
     ]
    }
   ],
   "source": [
    "units_residential_div = soup.find('div', class_='carac-title', string=lambda s: s and 'Unités résidentielles' in s)\n",
    "if units_residential_div and units_residential_div.find_next_sibling('div', class_='carac-value'):\n",
    "    units_text = units_residential_div.find_next_sibling('div', class_='carac-value').find('span', {'data-id': 'NbUniteFormatted'}).text.strip()\n",
    "    print([unit.strip() for unit in units_text.split(',')])\n",
    "\n"
   ]
  },
  {
   "cell_type": "code",
   "execution_count": 44,
   "metadata": {},
   "outputs": [
    {
     "data": {
      "text/plain": [
       "<div class=\"carac-title\">\n",
       "Unités résidentielles                </div>"
      ]
     },
     "execution_count": 44,
     "metadata": {},
     "output_type": "execute_result"
    }
   ],
   "source": [
    "units_residential_div = soup.find('div', class_='carac-title', string=lambda t: t and 'Unités résidentielles' in t)\n",
    "units_residential_div"
   ]
  },
  {
   "cell_type": "code",
   "execution_count": 35,
   "metadata": {},
   "outputs": [
    {
     "name": "stdout",
     "output_type": "stream",
     "text": [
      "4\n"
     ]
    }
   ],
   "source": [
    "units_div = soup.find('div', string='Nombre d’unités')\n",
    "if units_div and units_div.find_next_sibling('div', class_='carac-value'):\n",
    "    units_text = units_div.find_next_sibling('div', class_='carac-value').string.strip()\n",
    "    match = re.search(r'\\((\\d+)\\)', units_text)\n",
    "    if match:\n",
    "        print(int(match.group(1)))\n",
    "\n"
   ]
  },
  {
   "cell_type": "code",
   "execution_count": 43,
   "metadata": {},
   "outputs": [
    {
     "name": "stderr",
     "output_type": "stream",
     "text": [
      "/var/folders/gp/qhp8429j2bg19j2pc48pwtp00000gn/T/ipykernel_54862/4023209941.py:1: DeprecationWarning: The 'text' argument to find()-type methods is deprecated. Use 'string' instead.\n",
      "  units_residential_div = soup.find('div', class_='carac-title', text=lambda t: t and 'Unités résidentielles' in t)\n"
     ]
    },
    {
     "data": {
      "text/plain": [
       "<div class=\"carac-title\">\n",
       "Unités résidentielles                </div>"
      ]
     },
     "execution_count": 43,
     "metadata": {},
     "output_type": "execute_result"
    }
   ],
   "source": [
    "units_residential_div = soup.find('div', class_='carac-title', text=lambda t: t and 'Unités résidentielles' in t)\n",
    "units_residential_div"
   ]
  },
  {
   "cell_type": "code",
   "execution_count": null,
   "metadata": {},
   "outputs": [],
   "source": []
  }
 ],
 "metadata": {
  "kernelspec": {
   "display_name": ".venv",
   "language": "python",
   "name": "python3"
  },
  "language_info": {
   "codemirror_mode": {
    "name": "ipython",
    "version": 3
   },
   "file_extension": ".py",
   "mimetype": "text/x-python",
   "name": "python",
   "nbconvert_exporter": "python",
   "pygments_lexer": "ipython3",
   "version": "3.11.5"
  }
 },
 "nbformat": 4,
 "nbformat_minor": 2
}
