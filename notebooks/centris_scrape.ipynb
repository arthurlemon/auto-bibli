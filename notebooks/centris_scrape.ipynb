{
 "cells": [
  {
   "cell_type": "code",
   "execution_count": 2,
   "metadata": {},
   "outputs": [
    {
     "name": "stdout",
     "output_type": "stream",
     "text": [
      "The autoreload extension is already loaded. To reload it, use:\n",
      "  %reload_ext autoreload\n"
     ]
    }
   ],
   "source": [
    "%load_ext autoreload\n",
    "%autoreload 2\n",
    "\n",
    "from datetime import datetime\n",
    "from src.models import CentrisUrl, BienCentrisDuplex, CustomDateFormat\n",
    "from src.centris_scraper import CentrisBienParser, CentrisScraper"
   ]
  },
  {
   "cell_type": "code",
   "execution_count": 3,
   "metadata": {},
   "outputs": [],
   "source": [
    "plex_start_url=\"https://www.centris.ca/fr/plex~a-vendre~montreal?view=Thumbnail&uc=1\"\n",
    "url_bien_centris = \"https://www.centris.ca/fr/triplex~a-vendre~montreal-mercier-hochelaga-maisonneuve/9094837?view=Summary\""
   ]
  },
  {
   "cell_type": "code",
   "execution_count": 4,
   "metadata": {},
   "outputs": [],
   "source": [
    "centris_parser = CentrisBienParser(url_bien_centris)"
   ]
  },
  {
   "cell_type": "code",
   "execution_count": 5,
   "metadata": {},
   "outputs": [
    {
     "name": "stdout",
     "output_type": "stream",
     "text": [
      "DESCRIPTION\n",
      "------\n",
      "\n",
      "Centris ID: 9094837\n",
      "Triplex à vendre - Utilisation Résidentielle - En rangée\n",
      "Description: 3plex 2x5.5 + 1x3.5 au sous sol , 2 garages , 1 stationnement , plancher de bois franc et céramique,armoires de cuisine en mélamine, plusieurs rénovations comme :plomberie,électricité,( portes et fenêtres en 2005,) bachelor rénové en 1994 , salle de bain,armoires de cuisines et comptoires aux rez-de-chaussée ont rénovées,toit 2011, murs et plancher du bachelor en bloc béton, joins de briques remplissez des ciments,grand balcon terrasse arrière, une ruelle arrière , face un parc,prés autobus, métro , autoroute.2535 : le 01-07-24 augmentation $15/m , le 01-07-25,augmentation $15/m\n",
      "Année de construction: 1958\n",
      "Superficie:\n",
      "-terrain: 2557 (pc)      \n",
      "-batiment: 1099 (pc)        \n",
      "-habitable: None(pc)        \n",
      "-commerce: None (pc)\n",
      "Unités: ['3 1/2', '5 1/2', '5 1/2'] (3)\n",
      "Stationnement: 2\n",
      "Autres charactéristiques: Sous-sol 6 pieds +\n",
      "\n",
      "LOCALISATION\n",
      "------\n",
      "\n",
      "Addresse: 2533 - 2537, Rue Arcand, Montréal (Mercier/Hochelaga-Maisonneuve), Quartier Mercier\n",
      "Ville: Montreal\n",
      "Quartier: Mercier Hochelaga Maisonneuve\n",
      "\n",
      "PORTRAIT FINANCIER\n",
      "------\n",
      "\n",
      "Prix: 748000\n",
      "Prix au pc: 292.5303089558076\n",
      "Revenus: 34800\n",
      "Taxes: 4334\n",
      "Evaluation municipale: 361\n"
     ]
    }
   ],
   "source": [
    "print(\"DESCRIPTION\\n------\\n\")\n",
    "print(f\"Centris ID: {centris_parser.centris_id }\")\n",
    "print(f\"{centris_parser.title} - Utilisation {centris_parser.utilisation} - {centris_parser.style_batiment}\")\n",
    "print(f\"Description: {centris_parser.description}\")\n",
    "print(f\"Année de construction: {centris_parser.annee_construction}\")\n",
    "print(f\"Superficie:\\n-terrain: {centris_parser.superficie_terrain} (pc)\\\n",
    "      \\n-batiment: {centris_parser.superficie_batiment} (pc)\\\n",
    "        \\n-habitable: {centris_parser.superficie_habitable}(pc)\\\n",
    "        \\n-commerce: {centris_parser.superficie_commerce} (pc)\")\n",
    "print(f\"Unités: {centris_parser.unites} ({centris_parser.nombre_unites})\")\n",
    "print(f\"Stationnement: {centris_parser.stationnement}\")\n",
    "print(f\"Autres charactéristiques: {centris_parser.additional_characteristics}\")\n",
    "\n",
    "print(\"\\nLOCALISATION\\n------\\n\")\n",
    "print(f\"Addresse: {centris_parser.addresse}\")\n",
    "print(f\"Ville: {centris_parser.ville}\")\n",
    "print(f\"Quartier: {centris_parser.quartier}\")\n",
    "\n",
    "print(\"\\nPORTRAIT FINANCIER\\n------\\n\")\n",
    "print(f\"Prix: {centris_parser.prix}\")\n",
    "print(f\"Prix au pc: {centris_parser.prix/centris_parser.superficie_terrain}\")\n",
    "print(f\"Revenus: {centris_parser.revenus}\")\n",
    "print(f\"Taxes: {centris_parser.total_taxes}\")\n",
    "print(f\"Evaluation municipale: {centris_parser.eval_municipale}\")\n"
   ]
  },
  {
   "cell_type": "code",
   "execution_count": 90,
   "metadata": {},
   "outputs": [
    {
     "data": {
      "text/plain": [
       "361"
      ]
     },
     "execution_count": 90,
     "metadata": {},
     "output_type": "execute_result"
    }
   ],
   "source": [
    "centris_parser.eval_municipale"
   ]
  },
  {
   "cell_type": "code",
   "execution_count": 7,
   "metadata": {},
   "outputs": [],
   "source": [
    "bien_centris = BienCentrisDuplex(\\\n",
    "    url= CentrisUrl(url=centris_parser.url),\n",
    "    centris_id = centris_parser.centris_id,\n",
    "    title = centris_parser.title,\n",
    "    annee_construction = centris_parser.annee_construction,\n",
    "    description = centris_parser.description,\n",
    "    unites = centris_parser.unites,\n",
    "    nombre_unites = centris_parser.nombre_unites,\n",
    "    superficie_habitable = centris_parser.superficie_habitable,\n",
    "    superficie_batiment = centris_parser.superficie_batiment,\n",
    "    superficie_commerce = centris_parser.superficie_commerce,\n",
    "    superficie_terrain = centris_parser.superficie_terrain,\n",
    "    stationnement=centris_parser.stationnement,\n",
    "    utilisation = centris_parser.utilisation,\n",
    "    adresse = centris_parser.addresse,\n",
    "    ville = centris_parser.ville,\n",
    "    quartier = centris_parser.quartier,\n",
    "    prix=centris_parser.prix,\n",
    "    revenus=centris_parser.revenus,\n",
    "    taxes= centris_parser.total_taxes,\n",
    "    eval_municipale=centris_parser.eval_municipale,\n",
    "    date_scrape = CustomDateFormat(date=\"2024-01-10\"))"
   ]
  },
  {
   "cell_type": "code",
   "execution_count": null,
   "metadata": {},
   "outputs": [],
   "source": [
    "bien_centris"
   ]
  },
  {
   "cell_type": "code",
   "execution_count": null,
   "metadata": {},
   "outputs": [],
   "source": [
    "from playwright.sync_api import sync_playwright\n",
    "playwright = sync_playwright().start()\n",
    "browser = playwright.chromium.launch(headless=False)\n",
    "page = browser.new_page()\n",
    "page.goto(\"https://www.centris.ca/fr/plex~a-vendre~montreal?view=Thumbnail\")\n",
    "page.cl(path=\"example.png\")\n",
    "browser.close()\n",
    "playwright.stop()"
   ]
  }
 ],
 "metadata": {
  "kernelspec": {
   "display_name": ".venv",
   "language": "python",
   "name": "python3"
  },
  "language_info": {
   "codemirror_mode": {
    "name": "ipython",
    "version": 3
   },
   "file_extension": ".py",
   "mimetype": "text/x-python",
   "name": "python",
   "nbconvert_exporter": "python",
   "pygments_lexer": "ipython3",
   "version": "3.11.5"
  }
 },
 "nbformat": 4,
 "nbformat_minor": 2
}
