{
 "cells": [
  {
   "cell_type": "code",
   "execution_count": 37,
   "metadata": {},
   "outputs": [
    {
     "name": "stdout",
     "output_type": "stream",
     "text": [
      "The autoreload extension is already loaded. To reload it, use:\n",
      "  %reload_ext autoreload\n"
     ]
    }
   ],
   "source": [
    "%load_ext autoreload\n",
    "%autoreload 2\n",
    "\n",
    "from datetime import datetime\n",
    "from centris.centris_scraper import CentrisBienParser, AsyncCentrisScraper\n",
    "from centris.db_models import PlexCentrisListingDB\n",
    "from centris import Session\n",
    "from sqlalchemy.sql import select\n",
    "\n",
    "from pprint import pprint"
   ]
  },
  {
   "cell_type": "markdown",
   "metadata": {},
   "source": [
    "### Scraping 1 listing"
   ]
  },
  {
   "cell_type": "code",
   "execution_count": 21,
   "metadata": {},
   "outputs": [],
   "source": [
    "plex_start_url=\"https://www.centris.ca/fr/plex~a-vendre~montreal?view=Thumbnail&uc=1\"\n",
    "url_bien_centris = \"https://www.centris.ca/fr/triplex~a-vendre~montreal-ahuntsic-cartierville/19418151?view=Summary\""
   ]
  },
  {
   "cell_type": "code",
   "execution_count": 22,
   "metadata": {},
   "outputs": [],
   "source": [
    "centris_parser = CentrisBienParser(url_bien_centris)"
   ]
  },
  {
   "cell_type": "code",
   "execution_count": 32,
   "metadata": {},
   "outputs": [],
   "source": [
    "scrape_date=datetime.now()\n",
    "data = centris_parser.get_data(scrape_date)"
   ]
  },
  {
   "cell_type": "code",
   "execution_count": 30,
   "metadata": {},
   "outputs": [
    {
     "name": "stdout",
     "output_type": "stream",
     "text": [
      "{'adresse': \"10627 - 10631, Rue D'Iberville, Montréal (Ahuntsic-Cartierville), \"\n",
      "            'Quartier Ahuntsic Est',\n",
      " 'annee_construction': 1966,\n",
      " 'centris_id': 19418151,\n",
      " 'date_scrape': '2024-12-28',\n",
      " 'description': None,\n",
      " 'eval_municipale': 815000,\n",
      " 'nombre_unites': 3,\n",
      " 'prix': 980000,\n",
      " 'quartier': 'Ahuntsic Cartierville',\n",
      " 'revenus': 36000,\n",
      " 'stationnement': 3,\n",
      " 'style_batiment': None,\n",
      " 'superficie_batiment': None,\n",
      " 'superficie_commerce': None,\n",
      " 'superficie_habitable': None,\n",
      " 'superficie_terrain': 3401,\n",
      " 'taxes': 5313,\n",
      " 'title': 'Triplex à vendre',\n",
      " 'unites': ['3 1/2', '5 1/2', '5 1/2'],\n",
      " 'url': 'https://www.centris.ca/fr/triplex~a-vendre~montreal-ahuntsic-cartierville/19418151?view=Summary',\n",
      " 'utilisation': 'Résidentielle',\n",
      " 'ville': 'Montreal'}\n"
     ]
    }
   ],
   "source": [
    "pprint(data.model_dump())\n"
   ]
  },
  {
   "cell_type": "markdown",
   "metadata": {},
   "source": [
    "saving to DB"
   ]
  },
  {
   "cell_type": "code",
   "execution_count": null,
   "metadata": {},
   "outputs": [],
   "source": [
    "db_entry = centris_parser.to_db_model(scrape_date)\n",
    "with Session.begin() as session:\n",
    "    session.add_all(\n",
    "        [\n",
    "            db_entry\n",
    "        ]\n",
    "    )\n",
    "    session.commit()"
   ]
  },
  {
   "cell_type": "code",
   "execution_count": null,
   "metadata": {},
   "outputs": [],
   "source": [
    "# Query the database for testing\n",
    "stmt = select(PlexCentrisListingDB)\n",
    "objects = session.scalars(stmt).all()"
   ]
  },
  {
   "cell_type": "code",
   "execution_count": 44,
   "metadata": {},
   "outputs": [
    {
     "data": {
      "text/plain": [
       "{'_sa_instance_state': <sqlalchemy.orm.state.InstanceState at 0x11fce7770>,\n",
       " 'unites': '[\"3 1/2\", \"5 1/2\", \"5 1/2\"]',\n",
       " 'utilisation': 'Résidentielle',\n",
       " 'eval_municipale': 815000,\n",
       " 'nombre_unites': 3,\n",
       " 'style_batiment': None,\n",
       " 'date_scrape': '2024-12-28',\n",
       " 'url': 'https://www.centris.ca/fr/triplex~a-vendre~montreal-ahuntsic-cartierville/19418151?view=Summary',\n",
       " 'superficie_habitable': None,\n",
       " 'adresse': \"10627 - 10631, Rue D'Iberville, Montréal (Ahuntsic-Cartierville), Quartier Ahuntsic Est\",\n",
       " 'superficie_batiment': None,\n",
       " 'ville': 'Montreal',\n",
       " 'centris_id': 19418151,\n",
       " 'superficie_commerce': None,\n",
       " 'quartier': 'Ahuntsic Cartierville',\n",
       " 'title': 'Triplex à vendre',\n",
       " 'superficie_terrain': 3401,\n",
       " 'prix': 980000,\n",
       " 'revenus': 36000,\n",
       " 'annee_construction': 1966,\n",
       " 'stationnement': 3,\n",
       " 'description': None,\n",
       " 'taxes': 5313}"
      ]
     },
     "execution_count": 44,
     "metadata": {},
     "output_type": "execute_result"
    }
   ],
   "source": [
    "objects[0].__dict__"
   ]
  },
  {
   "cell_type": "markdown",
   "metadata": {},
   "source": [
    "### Scraping batch of listing"
   ]
  },
  {
   "cell_type": "code",
   "execution_count": null,
   "metadata": {},
   "outputs": [
    {
     "name": "stdout",
     "output_type": "stream",
     "text": [
      "Critical error in navigation: Page.goto: net::ERR_HTTP_RESPONSE_CODE_FAILURE at https://www.centris.ca/fr/plex~a-vendre~montreal?view=Thumbnail&uc=1\n",
      "Call log:\n",
      "  - navigating to \"https://www.centris.ca/fr/plex~a-vendre~montreal?view=Thumbnail&uc=1\", waiting until \"load\"\n",
      "\n"
     ]
    }
   ],
   "source": [
    "scraper = AsyncCentrisScraper(plex_start_url)\n",
    "urls = await scraper.navigate_centris()"
   ]
  },
  {
   "cell_type": "code",
   "execution_count": null,
   "metadata": {},
   "outputs": [],
   "source": []
  },
  {
   "cell_type": "code",
   "execution_count": null,
   "metadata": {},
   "outputs": [],
   "source": []
  }
 ],
 "metadata": {
  "kernelspec": {
   "display_name": ".venv",
   "language": "python",
   "name": "python3"
  },
  "language_info": {
   "codemirror_mode": {
    "name": "ipython",
    "version": 3
   },
   "file_extension": ".py",
   "mimetype": "text/x-python",
   "name": "python",
   "nbconvert_exporter": "python",
   "pygments_lexer": "ipython3",
   "version": "3.11.5"
  }
 },
 "nbformat": 4,
 "nbformat_minor": 2
}
