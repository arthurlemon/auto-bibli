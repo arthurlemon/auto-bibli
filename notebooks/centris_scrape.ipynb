{
 "cells": [
  {
   "cell_type": "code",
   "execution_count": null,
   "metadata": {},
   "outputs": [
    {
     "name": "stdout",
     "output_type": "stream",
     "text": [
      "The autoreload extension is already loaded. To reload it, use:\n",
      "  %reload_ext autoreload\n"
     ]
    }
   ],
   "source": [
    "%load_ext autoreload\n",
    "%autoreload 2\n",
    "\n",
    "import requests\n",
    "import re\n",
    "from datetime import datetime\n",
    "from src.models import CentrisUrl, BienCentrisDuplex, CustomDateFormat, Utilisation\n",
    "from src.utils import extract_data_from_url\n",
    "from src.centris_data_parser import CentrisBienParser, Centrisdata_parser, ParsedUrl\n",
    "import requests\n",
    "from selectolax.parser import HTMLParser"
   ]
  },
  {
   "cell_type": "code",
   "execution_count": 4,
   "metadata": {},
   "outputs": [],
   "source": [
    "plex_start_url=\"https://www.centris.ca/fr/plex~a-vendre~montreal?view=Thumbnail&uc=1\"\n",
    "url_bien = \"https://www.centris.ca/fr/duplex~a-vendre~montreal-mercier-hochelaga-maisonneuve/26772323?view=Summary\""
   ]
  },
  {
   "cell_type": "code",
   "execution_count": 6,
   "metadata": {},
   "outputs": [],
   "source": [
    "headers = {\n",
    "    'User-Agent': 'Mozilla/5.0 (Windows NT 10.0; Win64; x64) AppleWebKit/537.36 (KHTML, like Gecko) Chrome/58.0.3029.110 Safari/537.3'}\n",
    "\n",
    "response = requests.get(url_bien, headers=headers)\n",
    "\n",
    "if response.status_code == 200:\n",
    "    tree = HTMLParser(response.text)"
   ]
  },
  {
   "cell_type": "code",
   "execution_count": null,
   "metadata": {},
   "outputs": [],
   "source": [
    "# inspect html\n",
    "print(tree.html)"
   ]
  },
  {
   "cell_type": "code",
   "execution_count": 18,
   "metadata": {},
   "outputs": [],
   "source": [
    "parsed_url = ParsedUrl(url=url_bien, tree=tree)\n",
    "data_parser = CentrisBienParser(parsed_url)"
   ]
  },
  {
   "cell_type": "code",
   "execution_count": 19,
   "metadata": {},
   "outputs": [
    {
     "data": {
      "text/plain": [
       "{'Utilisation de la propriété': 'Résidentielle',\n",
       " 'Style de bâtiment': 'En rangée',\n",
       " 'Année de construction': '1958',\n",
       " 'Superficie du bâtiment (au sol)': '1 000 pc',\n",
       " 'Superficie habitable': '2 000 pc',\n",
       " 'Superficie du terrain': '2 025 pc',\n",
       " 'Stationnement total': 'Allée (1), Garage (2)',\n",
       " 'Nombre d’unités': 'Résidentiel (2)',\n",
       " 'Unités résidentielles': '1 x 5 ½, 1 x 9 ½',\n",
       " 'Unité principale': '9 pièces, 3 chambres, 2 salles de bain',\n",
       " 'Revenus bruts potentiels': '45 000 $',\n",
       " 'Caractéristiques additionnelles': 'Sous-sol 6 pieds +',\n",
       " 'Date d’emménagement': 'Selon les baux'}"
      ]
     },
     "execution_count": 19,
     "metadata": {},
     "output_type": "execute_result"
    }
   ],
   "source": [
    "data_parser.carac_data"
   ]
  },
  {
   "cell_type": "code",
   "execution_count": null,
   "metadata": {},
   "outputs": [
    {
     "name": "stdout",
     "output_type": "stream",
     "text": [
      "Price: 749000\n",
      "Description: Charmant duplex semi-commercial sur le Plateau Mont-Royal, comprenant un 2e étage vacant de 3 chambres avec terrasse spacieuse et garage, idéal pour y habiter ou louer. Le rez-de-chaussée est occupé par un dépanneur loué à long terme, offrant un revenu stable avec un bon locataire. Emplacement exceptionnel au coin de Cartier et Gilford, au coeur d'un quartier vivant et prisé. Une opportunité rare, à ne pas manquer!\n",
      "Address: 4800 - 4802, Rue Cartier, Montréal (Le Plateau-Mont-Royal), Quartier Le Plateau-Mont-Royal\n",
      "Construction Year: 1912\n",
      "Land Area: 1677\n",
      "Number of Units: 1\n",
      "Municipal Evaluation: 500300\n",
      "Taxes: 9033\n",
      "Potential Gross Revenue: 45900\n"
     ]
    }
   ],
   "source": [
    "# data from URL\n",
    "centris_url_data = extract_data_from_url(url_bien)\n",
    "centris_id = centris_url_data['centris_id']\n",
    "ville = centris_url_data['ville']\n",
    "quartier = centris_url_data['quartier']\n",
    "\n",
    "# data from HTML\n",
    "price_span = data_parser.extract_price()\n",
    "description = data_parser.extract_description()\n",
    "adresse = data_parser.extract_address()\n",
    "\n",
    "annee_construction = data_parser.extract_annee_construction()\n",
    "superficie_terrain = data_parser.extract_superficie_terrain()\n",
    "superficie_commerce = data_parser.extract_superficie_commerce()\n",
    "\n",
    "stationnement = data_parser.extract_stationnement()\n",
    "style_batiment = data_parser.extract_style_batiment()\n",
    "nombre_unites = data_parser.extract_nombre_unites()\n",
    "unites = data_parser.extract_unites()\n",
    "revenus_brut = data_parser.extract_revenus_brut()\n",
    "\n",
    "# Extracting municipal evaluation\n",
    "eval_total_div = soup.find('tr', class_='financial-details-table-total')\n",
    "if eval_total_div and eval_total_div.find('td', class_='font-weight-bold text-right'):\n",
    "    eval_municipale = int(re.sub(r'[^0-9]', '', eval_total_div.find('td', class_='font-weight-bold text-right').text.strip()))\n",
    "\n",
    "# Extracting taxes\n",
    "yearly_taxes_div = soup.find('div', class_='financial-details-table-yearly')\n",
    "taxes_total_div = yearly_taxes_div.find_next('tfoot').find('tr', class_='col pl-0 financial-details-table-total')\n",
    "if taxes_total_div and taxes_total_div.find('td', class_='font-weight-bold text-right'):\n",
    "    taxes = int(re.sub(r'[^0-9]', '', taxes_total_div.find('td', class_='font-weight-bold text-right').string.strip()))\n",
    "\n",
    "# Extracting additional characteristics\n",
    "misc_div = soup.find('div', string='Caractéristiques additionnelles')\n",
    "if misc_div and misc_div.find_next_sibling('div', class_='carac-value'):\n",
    "    misc = misc_div.find_next_sibling('div', class_='carac-value').string.strip()\n",
    "\n",
    "\n",
    "print(f\"Price: {price}\")\n",
    "print(f\"Description: {description}\")\n",
    "print(f\"Address: {adresse}\")\n",
    "print(f\"Construction Year: {annee_construction}\")\n",
    "print(f\"Land Area: {superficie_terrain}\")\n",
    "#print(f\"Garage: {garage}\")\n",
    "print(f\"Number of Units: {nombre_unites}\")\n",
    "# print(f\"Residential Units: {unites}\")\n",
    "print(f\"Municipal Evaluation: {eval_municipale}\")\n",
    "print(f\"Taxes: {taxes}\")\n",
    "print(f\"Potential Gross Revenue: {revenus_brut}\")\n",
    "# print(f\"Additional Characteristics: {misc}\")\n"
   ]
  },
  {
   "cell_type": "code",
   "execution_count": 5,
   "metadata": {},
   "outputs": [
    {
     "name": "stdout",
     "output_type": "stream",
     "text": [
      "Utilisation de la propriété: Résidentielle, Commerciale\n",
      "Style de bâtiment: En rangée\n",
      "Année de construction: 1912\n",
      "Superficie commerciale disponible: 1 093 pc\n",
      "Superficie du terrain: 1 677 pc\n",
      "Nombre d’unités: Résidentiel (1), Commercial (1)\n",
      "Unité résidentielle: 1 x 8 ½\n",
      "Unité principale: 8 pièces, 3 chambres, 1 salle de bain\n",
      "Revenus bruts potentiels: 45 900 $\n",
      "Date d’emménagement: 30 jours après l’acceptation de la promesse d’achat ou de location\n"
     ]
    }
   ],
   "source": [
    "carac_containers = tree.css('.carac-container')\n",
    "\n",
    "# Dictionary to store extracted data\n",
    "carac_data = {}\n",
    "\n",
    "# Iterate over each carac-container\n",
    "for container in carac_containers:\n",
    "    title_node = container.css_first('.carac-title')\n",
    "    value_node = container.css_first('.carac-value span')\n",
    "    \n",
    "    if title_node and value_node:\n",
    "        title = title_node.text().strip()\n",
    "        value = value_node.text().strip()\n",
    "        carac_data[title] = value\n",
    "\n",
    "# Output the extracted data\n",
    "for title, value in carac_data.items():\n",
    "    print(f\"{title}: {value}\")"
   ]
  },
  {
   "cell_type": "code",
   "execution_count": null,
   "metadata": {},
   "outputs": [],
   "source": [
    "# Extracting municipal evaluation\n",
    "eval_total_div = tree.css_first('tr.financial-details-table-total')\n",
    "if eval_total_div:\n",
    "    bold_cell = eval_total_div.css_first('td.font-weight-bold.text-right')\n",
    "    if bold_cell and bold_cell.text():\n",
    "        bien_centris['eval_municipale'] = int(re.sub(r'[^0-9]', '', bold_cell.text().strip()))\n",
    "\n",
    "# Extracting taxes\n",
    "yearly_taxes_div = tree.css_first('div.financial-details-table-yearly')\n",
    "if yearly_taxes_div:\n",
    "    taxes_total_div = yearly_taxes_div.css_first('tfoot tr.col.pl-0.financial-details-table-total')\n",
    "    if taxes_total_div:\n",
    "        bold_cell = taxes_total_div.css_first('td.font-weight-bold.text-right')\n",
    "        if bold_cell and bold_cell.text():\n",
    "            bien_centris['taxes'] = int(re.sub(r'[^0-9]', '', bold_cell.text().strip()))\n",
    "\n",
    "# Extracting additional characteristics\n",
    "misc_div = tree.css('div:contains(\"Caractéristiques additionnelles\")')\n",
    "if misc_div:\n",
    "    sibling = misc_div[0].next_element_by_css('.carac-value')\n",
    "    if sibling and sibling.text():\n",
    "        bien_centris['misc'] = sibling.text().strip()"
   ]
  },
  {
   "cell_type": "code",
   "execution_count": 77,
   "metadata": {},
   "outputs": [
    {
     "data": {
      "text/plain": [
       "BienCentrisDuplex(centris_id=1, url=CentrisUrl(url='https://www.centris.ca/fr/duplex~a-vendre~montreal-le-plateau-mont-royal/21901946?view=Summary&uc=2'), adresse='', ville='', quartier='', annee_construction=12, utilisation=<Utilisation.Résidentiel: 'Résidentiel'>, superficie_habitable=None, superficie_batiment=None, superficie_terrain=None, garage=0, prix=12, eval_municipale=12, taxes=12, frais=12, revenus=None, description=None, date_scrape=CustomDateFormat(date='2024-01-10'))"
      ]
     },
     "execution_count": 77,
     "metadata": {},
     "output_type": "execute_result"
    }
   ],
   "source": [
    "BienCentrisDuplex(centris_id = 1,\n",
    "    url= CentrisUrl(url=url_bien),\n",
    "    adresse = \"\",\n",
    "    ville = \"\",\n",
    "    quartier = \"\",\n",
    "    annee_construction = 12,\n",
    "    utilisation = Utilisation[\"Résidentiel\"],\n",
    "    garage = 0,\n",
    "    prix = 12,\n",
    "    eval_municipale = 12,\n",
    "    taxes = 12,\n",
    "    frais = 12,\n",
    "    date_scrape = CustomDateFormat(date=\"2024-01-10\"))"
   ]
  },
  {
   "cell_type": "code",
   "execution_count": null,
   "metadata": {},
   "outputs": [],
   "source": [
    "from playwright.sync_api import sync_playwright\n",
    "playwright = sync_playwright().start()\n",
    "browser = playwright.chromium.launch(headless=False)\n",
    "page = browser.new_page()\n",
    "page.goto(\"https://www.centris.ca/fr/plex~a-vendre~montreal?view=Thumbnail\")\n",
    "page.cl(path=\"example.png\")\n",
    "browser.close()\n",
    "playwright.stop()"
   ]
  }
 ],
 "metadata": {
  "kernelspec": {
   "display_name": ".venv",
   "language": "python",
   "name": "python3"
  },
  "language_info": {
   "codemirror_mode": {
    "name": "ipython",
    "version": 3
   },
   "file_extension": ".py",
   "mimetype": "text/x-python",
   "name": "python",
   "nbconvert_exporter": "python",
   "pygments_lexer": "ipython3",
   "version": "3.11.5"
  }
 },
 "nbformat": 4,
 "nbformat_minor": 2
}
